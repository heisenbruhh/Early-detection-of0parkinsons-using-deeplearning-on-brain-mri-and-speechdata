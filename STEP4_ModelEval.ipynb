{
  "nbformat": 4,
  "nbformat_minor": 0,
  "metadata": {
    "colab": {
      "provenance": []
    },
    "kernelspec": {
      "name": "python3",
      "display_name": "Python 3"
    },
    "language_info": {
      "name": "python"
    }
  },
  "cells": [
    {
      "cell_type": "code",
      "source": [
        "from tensorflow.keras.models import load_model\n",
        "from tensorflow.keras.preprocessing.image import ImageDataGenerator as IDG\n",
        "import numpy as np\n",
        "from tensorflow.keras.models import load_model\n",
        "from sklearn.metrics import confusion_matrix, accuracy_score, classification_report\n",
        "from sklearn.preprocessing import LabelBinarizer"
      ],
      "metadata": {
        "id": "_gx1-2P6nJx9"
      },
      "execution_count": 5,
      "outputs": []
    },
    {
      "cell_type": "code",
      "source": [
        "test=IDG(rescale=1/255)\n",
        "train= IDG(rescale=1/255)"
      ],
      "metadata": {
        "id": "N27r6Q88onJ1"
      },
      "execution_count": 2,
      "outputs": []
    },
    {
      "cell_type": "code",
      "source": [
        "train_dataset=train.flow_from_directory('/content/drive/MyDrive/PPMI/SN_FINAL_Cropped/Train',\n",
        "                                        target_size=(650,1000),\n",
        "                                        batch_size=10,\n",
        "                                        class_mode='categorical')"
      ],
      "metadata": {
        "colab": {
          "base_uri": "https://localhost:8080/"
        },
        "id": "vdeHEXBATbo2",
        "outputId": "b2cc33b3-b942-43e9-e413-0e78f2e80cc6"
      },
      "execution_count": 3,
      "outputs": [
        {
          "output_type": "stream",
          "name": "stdout",
          "text": [
            "Found 400 images belonging to 2 classes.\n"
          ]
        }
      ]
    },
    {
      "cell_type": "code",
      "source": [
        "test_dataset=test.flow_from_directory('/content/drive/MyDrive/PPMI/SN_FINAL_Cropped/Test',\n",
        "                                        target_size=(650,1000),\n",
        "                                        batch_size=10,\n",
        "                                        class_mode='categorical')"
      ],
      "metadata": {
        "colab": {
          "base_uri": "https://localhost:8080/"
        },
        "id": "y6XfKnPYo-wg",
        "outputId": "e0009c2e-e3c3-4dac-e31a-0248f8617a26"
      },
      "execution_count": 4,
      "outputs": [
        {
          "output_type": "stream",
          "name": "stdout",
          "text": [
            "Found 20 images belonging to 2 classes.\n"
          ]
        }
      ]
    },
    {
      "cell_type": "code",
      "source": [
        "# Obtain class labels from the training dataset\n",
        "class_labels = list(train_dataset.class_indices.keys())\n",
        "print(\"Class Labels:\", class_labels)\n",
        "\n",
        "# Get the training set labels\n",
        "train_labels = train_dataset.classes\n",
        "\n",
        "# One-hot encode the training set labels\n",
        "label_binarizer = LabelBinarizer()\n",
        "one_hot_train_labels = label_binarizer.fit_transform(train_labels)\n",
        "\n",
        "# Similarly process the validation dataset labels\n",
        "test_labels = test_dataset.classes\n",
        "one_hot_test_labels = label_binarizer.transform(test_labels)\n",
        "\n",
        "# Confirm the shapes of the one-hot encoded labels\n",
        "print(\"Shape of one-hot encoded training labels:\", one_hot_train_labels.shape)\n",
        "print(\"Shape of one-hot encoded validation labels:\", one_hot_test_labels.shape)"
      ],
      "metadata": {
        "colab": {
          "base_uri": "https://localhost:8080/"
        },
        "id": "geanshn9Tn4b",
        "outputId": "5d2f00b4-07e1-4e65-865c-8a8c4d61d460"
      },
      "execution_count": 6,
      "outputs": [
        {
          "output_type": "stream",
          "name": "stdout",
          "text": [
            "Class Labels: ['Control', 'PD']\n",
            "Shape of one-hot encoded training labels: (400, 1)\n",
            "Shape of one-hot encoded validation labels: (20, 1)\n"
          ]
        }
      ]
    },
    {
      "cell_type": "code",
      "source": [
        "CNN = load_model('/content/drive/MyDrive/PPMI/FINAL_MODELS/CustomCNN2_SOFT.h5')\n",
        "MobNet=load_model('/content/drive/MyDrive/PPMI/FINAL_MODELS/FinalMobileNet2_SOFT.h5')\n",
        "IncepNetV3=load_model('/content/drive/MyDrive/PPMI/FINAL_MODELS/InceptionNetV3_SOFT.h5')"
      ],
      "metadata": {
        "id": "LXuJbJDbpIWB"
      },
      "execution_count": 7,
      "outputs": []
    },
    {
      "cell_type": "code",
      "source": [
        "CNN_path = '/content/drive/MyDrive/PPMI/FINAL_MODELS/CustomCNN2_SOFT.h5'\n",
        "MobileN_path='/content/drive/MyDrive/PPMI/FINAL_MODELS/FinalMobileNet2_SOFT.h5'\n",
        "InceptN_path='/content/drive/MyDrive/PPMI/FINAL_MODELS/InceptionNetV3_SOFT.h5'"
      ],
      "metadata": {
        "id": "AcnBuMxyYDqy"
      },
      "execution_count": 20,
      "outputs": []
    },
    {
      "cell_type": "code",
      "source": [
        "import numpy as np\n",
        "from tensorflow.keras.models import load_model\n",
        "from tensorflow.keras.preprocessing import image\n",
        "from tensorflow.keras.preprocessing.image import img_to_array\n",
        "\n",
        "\n",
        "\n",
        "def CNN_Pred(image_path, model_path=CNN_path):\n",
        "    def predict_image_probabilities(image_path, model_path=CNN_path):\n",
        "        model = load_model(model_path)\n",
        "        target_size = (650, 1000)\n",
        "        img = image.load_img(image_path, target_size=target_size)\n",
        "        img = image.img_to_array(img)\n",
        "        img = img / 255.0\n",
        "        img = np.expand_dims(img, axis=0)\n",
        "        predictions = model.predict(img)\n",
        "        return predictions[0]\n",
        "\n",
        "    probabilities = predict_image_probabilities(image_path)\n",
        "    print(f\"Probability of Control using CNN: {probabilities[0]}\")\n",
        "    print(f\"Probability of PD using CNN: {probabilities[1]}\")\n",
        "\n",
        "\n",
        "def MobNet_Pred(image_path, model_path=MobileN_path):\n",
        "    def predict_image_probabilities(image_path, model_path=MobileN_path):\n",
        "        model = load_model(model_path)\n",
        "        target_size = (650, 1000)\n",
        "        img = image.load_img(image_path, target_size=target_size)\n",
        "        img = image.img_to_array(img)\n",
        "        img = img / 255.0\n",
        "        img = np.expand_dims(img, axis=0)\n",
        "        predictions = model.predict(img)\n",
        "        return predictions[0]\n",
        "\n",
        "    probabilities = predict_image_probabilities(image_path)\n",
        "    print(f\"Probability of Control using MobileNet: {probabilities[0]}\")\n",
        "    print(f\"Probability of PD using MobileNet: {probabilities[1]}\")\n",
        "\n",
        "\n",
        "def InceptionNet_Pred(image_path, model_path=InceptN_path):\n",
        "    def predict_image_probabilities(image_path, model_path=InceptN_path):\n",
        "        model = load_model(model_path)\n",
        "        target_size = (650, 1000)\n",
        "        img = image.load_img(image_path, target_size=target_size)\n",
        "        img = image.img_to_array(img)\n",
        "        img = img / 255.0\n",
        "        img = np.expand_dims(img, axis=0)\n",
        "        predictions = model.predict(img)\n",
        "        return predictions[0]\n",
        "\n",
        "    probabilities = predict_image_probabilities(image_path)\n",
        "    print(f\"Probability of Control using InceptionNet V3: {probabilities[0]}\")\n",
        "    print(f\"Probability of PD using InceptionNet V3: {probabilities[1]}\")\n",
        "\n",
        "\n",
        "\n"
      ],
      "metadata": {
        "id": "jx6J07R2xE3c"
      },
      "execution_count": 23,
      "outputs": []
    },
    {
      "cell_type": "code",
      "source": [
        "CNN_Pred('/content/drive/MyDrive/PPMI/SN_FINAL_Cropped/Test/PD/cropped_PD_137.png')"
      ],
      "metadata": {
        "colab": {
          "base_uri": "https://localhost:8080/"
        },
        "id": "R2YohcCSXeQ4",
        "outputId": "bb24cb87-ecd4-45f5-fe40-9a015e128538"
      },
      "execution_count": 25,
      "outputs": [
        {
          "output_type": "stream",
          "name": "stdout",
          "text": [
            "1/1 [==============================] - 0s 209ms/step\n",
            "Probability of Control using CNN: 0.10405672341585159\n",
            "Probability of PD using CNN: 0.8959433436393738\n"
          ]
        }
      ]
    },
    {
      "cell_type": "code",
      "source": [
        "MobNet_Pred('/content/drive/MyDrive/PPMI/SN_FINAL_Cropped/Test/PD/cropped_PD_137.png')"
      ],
      "metadata": {
        "colab": {
          "base_uri": "https://localhost:8080/"
        },
        "id": "oMgxYXPTZZc2",
        "outputId": "b7c05783-6629-4771-e7e7-831c13105025"
      },
      "execution_count": 27,
      "outputs": [
        {
          "output_type": "stream",
          "name": "stdout",
          "text": [
            "1/1 [==============================] - 1s 903ms/step\n",
            "Probability of Control using MobileNet: 0.3963358700275421\n",
            "Probability of PD using MobileNet: 0.6036641001701355\n"
          ]
        }
      ]
    },
    {
      "cell_type": "code",
      "source": [
        "InceptionNet_Pred('/content/drive/MyDrive/PPMI/SN_FINAL_Cropped/Test/PD/cropped_PD_137.png')"
      ],
      "metadata": {
        "colab": {
          "base_uri": "https://localhost:8080/"
        },
        "id": "0WlNKP_eZayD",
        "outputId": "c334e550-b50c-4099-8837-15b37bba90c1"
      },
      "execution_count": 28,
      "outputs": [
        {
          "output_type": "stream",
          "name": "stdout",
          "text": [
            "1/1 [==============================] - 3s 3s/step\n",
            "Probability of Control using InceptionNet V3: 0.2982385456562042\n",
            "Probability of PD using InceptionNet V3: 0.7017614245414734\n"
          ]
        }
      ]
    },
    {
      "cell_type": "code",
      "source": [],
      "metadata": {
        "id": "q8GdWn5dZiR0"
      },
      "execution_count": null,
      "outputs": []
    }
  ]
}