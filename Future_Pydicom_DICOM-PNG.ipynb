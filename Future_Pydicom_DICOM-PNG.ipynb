{
  "nbformat": 4,
  "nbformat_minor": 0,
  "metadata": {
    "colab": {
      "provenance": []
    },
    "kernelspec": {
      "name": "python3",
      "display_name": "Python 3"
    },
    "language_info": {
      "name": "python"
    }
  },
  "cells": [
    {
      "cell_type": "code",
      "execution_count": null,
      "metadata": {
        "colab": {
          "base_uri": "https://localhost:8080/"
        },
        "id": "HS6rv1gmOxF5",
        "outputId": "9987f45d-e298-4502-bebf-5d867942994e"
      },
      "outputs": [
        {
          "output_type": "stream",
          "name": "stdout",
          "text": [
            "Requirement already satisfied: pydicom in /usr/local/lib/python3.10/dist-packages (2.4.3)\n"
          ]
        }
      ],
      "source": [
        "import numpy as np\n",
        "!pip install pydicom\n",
        "import pydicom\n",
        "import os\n",
        "from PIL import Image\n",
        "from pydicom.pixel_data_handlers.util import apply_voi_lut\n"
      ]
    },
    {
      "cell_type": "code",
      "source": [
        "# Input and output directories\n",
        "input_folder = '/content/drive/MyDrive/PPMI/TEST_PD_48_T1/3325'\n",
        "output_folder = '/content/drive/MyDrive/PPMI/TEST_PD_48_T1/3325_png'\n",
        "\n",
        "# Create the output folder if it doesn't exist\n",
        "os.makedirs(output_folder, exist_ok=True)\n",
        "\n",
        "# Function to convert DICOM to PNG\n",
        "def dicom_to_png(dicom_path, output_path):\n",
        "    ds = pydicom.dcmread(dicom_path)\n",
        "\n",
        "    # Apply VOI LUT if available\n",
        "    pixel_array = apply_voi_lut(ds.pixel_array, ds)\n",
        "\n",
        "    # Normalize pixel data to 8-bit or 16-bit integer\n",
        "    if ds.BitsStored > 8:\n",
        "        image = Image.fromarray(pixel_array.astype('uint16'))\n",
        "    else:\n",
        "        image = Image.fromarray(pixel_array.astype('uint8'))\n",
        "\n",
        "    image.save(output_path)\n",
        "\n",
        "# Loop through the DICOM files in the input folder and convert them to PNG\n",
        "for filename in os.listdir(input_folder):\n",
        "    if filename.endswith(\".dcm\"):\n",
        "        input_path = os.path.join(input_folder, filename)\n",
        "        output_path = os.path.join(output_folder, os.path.splitext(filename)[0] + \".png\")\n",
        "        dicom_to_png(input_path, output_path)\n",
        "\n",
        "print(\"Conversion complete.\")"
      ],
      "metadata": {
        "colab": {
          "base_uri": "https://localhost:8080/"
        },
        "id": "wbdHUUrSWZ_x",
        "outputId": "de0698e6-5bed-4c9b-c187-384f4ed6bb87"
      },
      "execution_count": null,
      "outputs": [
        {
          "output_type": "stream",
          "name": "stdout",
          "text": [
            "Conversion complete.\n"
          ]
        }
      ]
    }
  ]
}