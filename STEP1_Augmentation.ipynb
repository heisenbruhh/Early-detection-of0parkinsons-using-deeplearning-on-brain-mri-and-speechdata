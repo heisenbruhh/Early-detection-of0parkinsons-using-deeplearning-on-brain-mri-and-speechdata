{
  "nbformat": 4,
  "nbformat_minor": 0,
  "metadata": {
    "colab": {
      "provenance": [],
      "gpuType": "T4"
    },
    "kernelspec": {
      "name": "python3",
      "display_name": "Python 3"
    },
    "language_info": {
      "name": "python"
    },
    "accelerator": "GPU"
  },
  "cells": [
    {
      "cell_type": "code",
      "execution_count": 4,
      "metadata": {
        "id": "b7WYvWT6B71o"
      },
      "outputs": [],
      "source": [
        "import numpy as np\n",
        "import tensorflow as tf\n",
        "from keras import Sequential\n",
        "import matplotlib.pyplot as plt\n",
        "import os\n",
        "import cv2\n",
        "from tensorflow.keras.preprocessing.image import ImageDataGenerator as IDG\n",
        "from tensorflow.keras.preprocessing import image\n",
        "from tensorflow.keras.optimizers import RMSprop\n",
        "from keras.layers import Dense, Conv2D, MaxPooling2D, Flatten\n",
        "from google.colab.patches import cv2_imshow"
      ]
    },
    {
      "cell_type": "code",
      "source": [
        "# Define the directories\n",
        "control_dir = '/content/drive/MyDrive/PPMI/SN_FINAL/CONTROL'\n",
        "pd_dir = '/content/drive/MyDrive/PPMI/SN_FINAL/PD'\n",
        "\n",
        "# Create an ImageDataGenerator for data augmentation\n",
        "datagen = IDG(\n",
        "    rotation_range=2,\n",
        "    width_shift_range=0.02,\n",
        "    height_shift_range=0.02,\n",
        "    shear_range=0.05,\n",
        "    zoom_range=0.02,\n",
        "    horizontal_flip=True,\n",
        "    fill_mode='nearest'\n",
        ")\n",
        "\n",
        "# # Function to save augmented images\n",
        "# def save_augmented_images(directory, label_prefix):\n",
        "#     # Load and augment each original image\n",
        "#     for filename in os.listdir(directory):\n",
        "#         if filename.endswith('.png'):\n",
        "#             img = image.load_img(os.path.join(directory, filename))\n",
        "#             x = image.img_to_array(img)\n",
        "#             x = np.expand_dims(x, axis=0)\n",
        "\n",
        "#             # Generate augmented images\n",
        "#             i = 0\n",
        "#             for batch in datagen.flow(x, batch_size=1):\n",
        "#                 augmented_img = image.array_to_img(batch[0])\n",
        "#                 i += 1\n",
        "\n",
        "#                 # Save the augmented image with the label in the directory\n",
        "#                 augmented_img.save(os.path.join(directory, f'{label_prefix}_{i}.png'))\n",
        "\n",
        "#                 if i >= 150:  # You can adjust the number of augmented images per original image\n",
        "#                     break\n",
        "\n"
      ],
      "metadata": {
        "id": "EGZ-Gad0ClzM"
      },
      "execution_count": 13,
      "outputs": []
    },
    {
      "cell_type": "code",
      "source": [
        "# Function to save augmented images\n",
        "def save_augmented_images(directory, label_prefix):\n",
        "    start_number = 1  # Initial number for labeling the images\n",
        "\n",
        "    # Load and augment each original image\n",
        "    for filename in os.listdir(directory):\n",
        "        if filename.endswith('.png'):\n",
        "            img = image.load_img(os.path.join(directory, filename))\n",
        "            x = image.img_to_array(img)\n",
        "            x = np.expand_dims(x, axis=0)\n",
        "\n",
        "            # Generate exactly 4 augmented images for each original image\n",
        "            for i in range(4):  # Generate exactly 4 augmented images per original image\n",
        "                augmented_img = datagen.random_transform(x[0])\n",
        "                augmented_img = image.array_to_img(augmented_img)\n",
        "\n",
        "                # Save the augmented image with the label in the directory\n",
        "                augmented_img.save(os.path.join(directory, f'{label_prefix}_{start_number}.png'))\n",
        "                start_number += 1\n",
        "\n"
      ],
      "metadata": {
        "id": "i0jRISGbXmtz"
      },
      "execution_count": 8,
      "outputs": []
    },
    {
      "cell_type": "code",
      "source": [
        "# Call the function to save augmented images for 'Control' and 'PD' directories\n",
        "save_augmented_images(pd_dir, 'PD')"
      ],
      "metadata": {
        "id": "5vhUuKaCCzz-"
      },
      "execution_count": 9,
      "outputs": []
    },
    {
      "cell_type": "code",
      "source": [
        "save_augmented_images(control_dir, 'C')"
      ],
      "metadata": {
        "id": "r__ZWVAxC2Rj"
      },
      "execution_count": 14,
      "outputs": []
    }
  ]
}